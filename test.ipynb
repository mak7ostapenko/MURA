{
 "cells": [
  {
   "cell_type": "code",
   "execution_count": null,
   "metadata": {
    "scrolled": true
   },
   "outputs": [],
   "source": [
    "from easydict import EasyDict\n",
    "\n",
    "from model.models import TuneModel\n",
    "from keras.applications.resnet50 import ResNet50\n",
    "from keras.applications.densenet import DenseNet121"
   ]
  },
  {
   "cell_type": "code",
   "execution_count": null,
   "metadata": {
    "collapsed": true
   },
   "outputs": [],
   "source": [
    "# BASE MODEL PARAMETERS\n",
    "HEIGHT = 224\n",
    "WIDTH  = 224\n",
    "CHANNELS = 3\n",
    "WEIGHTS = 'imagenet'\n",
    "INCLUDE_TOP = False\n",
    "CLASSES = 2\n",
    "\n",
    "base_models = {'resnet50': ResNet50, 'densenet121': DenseNet121}"
   ]
  },
  {
   "cell_type": "code",
   "execution_count": null,
   "metadata": {
    "collapsed": true
   },
   "outputs": [],
   "source": [
    "model_name = 'resnet50'\n",
    "model = TuneModel(base_models[model_name], name=model_name, \n",
    "                  height=HEIGHT, width=WIDTH, channels=CHANNELS,\n",
    "                  INCLUDE_TOP=False, WEIGHTS='imagenet',\n",
    "                  classes=CLASSES)"
   ]
  },
  {
   "cell_type": "code",
   "execution_count": null,
   "metadata": {
    "collapsed": true
   },
   "outputs": [],
   "source": [
    "model.build()"
   ]
  },
  {
   "cell_type": "code",
   "execution_count": 12,
   "metadata": {
    "collapsed": true
   },
   "outputs": [],
   "source": [
    "gen_params = EasyDict(\n",
    "    {\n",
    "        'train':\n",
    "            {\n",
    "                'datagen':\n",
    "                    {\n",
    "                        'rescale': 1. / 255,\n",
    "                        'rotation_range': 45,\n",
    "                        'width_shift_range': 0.2,\n",
    "                        'height_shift_range': 0.2,\n",
    "                        'zoom_range': 0.2,\n",
    "                        'horizontal_flip': True,\n",
    "                    },\n",
    "                'generator':\n",
    "                    {\n",
    "                        'directory': 'data/train',\n",
    "                        'shuffle': True,\n",
    "                        \"target_size\": (224, 224),\n",
    "                        \"class_mode\": 'binary',\n",
    "                        \"batch_size\": 64,\n",
    "                    },\n",
    "\n",
    "            },\n",
    "        'val':\n",
    "            {\n",
    "                'datagen':\n",
    "                    {\n",
    "                        'rescale': 1. / 255,\n",
    "                    },\n",
    "                'generator':\n",
    "                    {\n",
    "                        'directory': 'data/val',\n",
    "                        'shuffle': True,\n",
    "                        \"target_size\": (224, 224),\n",
    "                        \"class_mode\": 'binary',\n",
    "                        \"batch_size\": 64,\n",
    "                    },\n",
    "            }\n",
    "    })\n",
    "\n",
    "\n",
    "train_params = EasyDict({'epoch': 2, 'verbose': 1})\n"
   ]
  },
  {
   "cell_type": "code",
   "execution_count": null,
   "metadata": {},
   "outputs": [],
   "source": [
    "model.train(train_params=train_params, gen_params=gen_params)"
   ]
  },
  {
   "cell_type": "code",
   "execution_count": 14,
   "metadata": {},
   "outputs": [],
   "source": [
    "eval_params = EasyDict(\n",
    "    {\n",
    "        'datagen':\n",
    "                {\n",
    "                    'rescale': 1. / 255,\n",
    "                },\n",
    "        'generator':\n",
    "                {\n",
    "                    'directory': 'data/val',\n",
    "                    'shuffle': False,\n",
    "                    'target_size': (224, 224),\n",
    "                    'class_mode': 'binary',\n",
    "                },\n",
    "\n",
    "    })"
   ]
  },
  {
   "cell_type": "code",
   "execution_count": null,
   "metadata": {
    "collapsed": true
   },
   "outputs": [],
   "source": [
    "metrics, metrics_by_encounter, metrics_by_study_type = model.eval(eval_params)"
   ]
  }
 ],
 "metadata": {
  "kernelspec": {
   "display_name": "Python 3",
   "language": "python",
   "name": "python3"
  },
  "language_info": {
   "codemirror_mode": {
    "name": "ipython",
    "version": 3
   },
   "file_extension": ".py",
   "mimetype": "text/x-python",
   "name": "python",
   "nbconvert_exporter": "python",
   "pygments_lexer": "ipython3",
   "version": "3.6.6"
  }
 },
 "nbformat": 4,
 "nbformat_minor": 2
}
